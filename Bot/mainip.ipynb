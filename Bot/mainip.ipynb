{
 "cells": [
  {
   "cell_type": "code",
   "execution_count": 1,
   "id": "8dbaaf2e",
   "metadata": {},
   "outputs": [],
   "source": [
    "from langgraph.prebuilt import create_react_agent\n",
    "from langchain_google_genai import ChatGoogleGenerativeAI\n",
    "from tools import compare_directions_by_codes\n",
    "from dotenv import load_dotenv\n",
    "load_dotenv()\n",
    "from memory import CappingMemorySaver"
   ]
  },
  {
   "cell_type": "code",
   "execution_count": 2,
   "id": "d6a66696",
   "metadata": {},
   "outputs": [],
   "source": [
    "check = CappingMemorySaver()\n",
    "llm = ChatGoogleGenerativeAI(model=\"gemini-2.0-flash\", temperature=0)\n",
    "tools = [compare_directions_by_codes]\n",
    "agent = create_react_agent(model=llm, tools=tools, checkpointer=check)"
   ]
  },
  {
   "cell_type": "code",
   "execution_count": 31,
   "id": "85d43717",
   "metadata": {},
   "outputs": [],
   "source": [
    "resp = agent.invoke(\n",
    "    {\"messages\":\"Как меня зовут?\"},\n",
    "    config={\"configurable\": {\"thread_id\": \"test\"}}\n",
    ")"
   ]
  },
  {
   "cell_type": "code",
   "execution_count": 32,
   "id": "09c1117b",
   "metadata": {},
   "outputs": [
    {
     "data": {
      "text/plain": [
       "'Я не знаю, как вас зовут. Я — большая языковая модель, и у меня нет доступа к личной информации о вас.'"
      ]
     },
     "execution_count": 32,
     "metadata": {},
     "output_type": "execute_result"
    }
   ],
   "source": [
    "resp[\"messages\"][-1].content"
   ]
  }
 ],
 "metadata": {
  "kernelspec": {
   "display_name": "venv",
   "language": "python",
   "name": "python3"
  },
  "language_info": {
   "codemirror_mode": {
    "name": "ipython",
    "version": 3
   },
   "file_extension": ".py",
   "mimetype": "text/x-python",
   "name": "python",
   "nbconvert_exporter": "python",
   "pygments_lexer": "ipython3",
   "version": "3.13.5"
  }
 },
 "nbformat": 4,
 "nbformat_minor": 5
}
