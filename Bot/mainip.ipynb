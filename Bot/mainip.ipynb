{
 "cells": [
  {
   "cell_type": "code",
   "execution_count": null,
   "id": "8dbaaf2e",
   "metadata": {},
   "outputs": [
    {
     "data": {
      "text/plain": [
       "True"
      ]
     },
     "execution_count": 1,
     "metadata": {},
     "output_type": "execute_result"
    }
   ],
   "source": [
    "from langchain_core.tools import tool\n",
    "from langgraph.prebuilt import create_react_agent\n",
    "from langgraph.graph import StateGraph\n",
    "from langchain_google_genai import ChatGoogleGenerativeAI\n",
    "from langchain.agents import Tool\n",
    "from tools import compare_directions_by_codes\n",
    "from dotenv import load_dotenv\n",
    "from langgraph.checkpoint.memory import MemorySaver\n",
    "from langchain_core.messages import HumanMessage\n",
    "from langchain_core.output_parsers import StrOutputParser\n",
    "load_dotenv()\n",
    "from fastapi import FastAPI\n",
    "from langserve import add_routes"
   ]
  },
  {
   "cell_type": "code",
   "execution_count": 2,
   "id": "d6a66696",
   "metadata": {},
   "outputs": [],
   "source": [
    "llm = ChatGoogleGenerativeAI(model=\"gemini-2.0-flash\", temperature=0)\n",
    "tools = [compare_directions_by_codes]\n",
    "agent = create_react_agent(model=llm, tools=tools)"
   ]
  },
  {
   "cell_type": "code",
   "execution_count": 3,
   "id": "85d43717",
   "metadata": {},
   "outputs": [],
   "source": [
    "response = agent.invoke({\"messages\": \"Сравни направления 09.03.01 и 09.03.02\"})"
   ]
  },
  {
   "cell_type": "code",
   "execution_count": 6,
   "id": "09c1117b",
   "metadata": {},
   "outputs": [
    {
     "data": {
      "text/plain": [
       "'1. Краткое описание направлений  \\n   - 09.03.01 («Информатика и вычислительная техника»): Направление связано с разработкой и анализом информационных систем, методов программирования и моделирования. Упор на создание программных продуктов и систем.\\n   - 09.03.02 («Информационные системы и технологии»): Направление фокусируется на информационных системах, управлении проектами, обработке и анализе информации, а также на современных технологиях разработки и реализации.\\n2. Заключение  \\n   Оба направления, \"Информатика и вычислительная техника\" и \"Информационные системы и технологии\", имеют много общего, так как оба связаны с информационными технологиями и системами. Однако, \"Информатика и вычислительная техника\" больше ориентирована на разработку и программирование, в то время как \"Информационные системы и технологии\" уделяет больше внимания управлению информацией, проектам и анализу данных.  \\n   Рекомендация: если тебе ближе разработка программного обеспечения и глубокое изучение программирования — выбирай 09.03.01. Если интереснее управление информационными системами, анализ данных и работа с информацией — выбирай 09.03.02.'"
      ]
     },
     "execution_count": 6,
     "metadata": {},
     "output_type": "execute_result"
    }
   ],
   "source": [
    "response['messages'][-1].content"
   ]
  },
  {
   "cell_type": "code",
   "execution_count": null,
   "id": "d80a77ce",
   "metadata": {},
   "outputs": [],
   "source": []
  },
  {
   "cell_type": "code",
   "execution_count": 8,
   "id": "805d5a1f",
   "metadata": {},
   "outputs": [],
   "source": [
    "app = FastAPI()\n",
    "add_routes(app, agent, path='/test')"
   ]
  },
  {
   "cell_type": "code",
   "execution_count": null,
   "id": "3bf6e7ac",
   "metadata": {},
   "outputs": [],
   "source": []
  }
 ],
 "metadata": {
  "kernelspec": {
   "display_name": "venv",
   "language": "python",
   "name": "python3"
  },
  "language_info": {
   "codemirror_mode": {
    "name": "ipython",
    "version": 3
   },
   "file_extension": ".py",
   "mimetype": "text/x-python",
   "name": "python",
   "nbconvert_exporter": "python",
   "pygments_lexer": "ipython3",
   "version": "3.13.5"
  }
 },
 "nbformat": 4,
 "nbformat_minor": 5
}
